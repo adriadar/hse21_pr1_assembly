{
  "nbformat": 4,
  "nbformat_minor": 0,
  "metadata": {
    "colab": {
      "name": "minor_bioinf_hw1.ipynb",
      "provenance": [],
      "collapsed_sections": []
    },
    "kernelspec": {
      "name": "python3",
      "display_name": "Python 3"
    },
    "language_info": {
      "name": "python"
    }
  },
  "cells": [
    {
      "cell_type": "code",
      "metadata": {
        "colab": {
          "base_uri": "https://localhost:8080/"
        },
        "id": "kwexswyVQOQj",
        "outputId": "c0ac6909-7d55-4c8e-dbe3-4512f8476a9b"
      },
      "source": [
        "!git clone https://github.com/adriadar/hse21_hw1"
      ],
      "execution_count": 1,
      "outputs": [
        {
          "output_type": "stream",
          "name": "stdout",
          "text": [
            "Cloning into 'hse21_hw1'...\n",
            "remote: Enumerating objects: 134, done.\u001b[K\n",
            "remote: Counting objects: 100% (134/134), done.\u001b[K\n",
            "remote: Compressing objects: 100% (116/116), done.\u001b[K\n",
            "remote: Total 134 (delta 57), reused 0 (delta 0), pack-reused 0\u001b[K\n",
            "Receiving objects: 100% (134/134), 3.27 MiB | 2.43 MiB/s, done.\n",
            "Resolving deltas: 100% (57/57), done.\n"
          ]
        }
      ]
    },
    {
      "cell_type": "code",
      "metadata": {
        "id": "yNFdLPUoU8pR"
      },
      "source": [
        "def analyse(name):\n",
        "  str_arr = []\n",
        "  str_arr = !grep '^>' $name | sed -r 's/.*len//' | sed -r 's/_.*//'\n",
        "  int_arr = sorted([int(s) for s in str_arr], reverse=True)\n",
        "\n",
        "  print('Общее количество:', len(int_arr))\n",
        "  print('Общая длина:', sum(int_arr))\n",
        "  print('Длина самого длинного:', int_arr[0])\n",
        "  \n",
        "  half_len = sum(int_arr) / 2\n",
        "  cur_len = 0\n",
        "  id = 0\n",
        "  while cur_len < half_len:\n",
        "    cur_len += int_arr[id]\n",
        "    id += 1\n",
        "  \n",
        "  n50 = int_arr[id - 1]\n",
        "  print('N50:', n50)\n"
      ],
      "execution_count": 2,
      "outputs": []
    },
    {
      "cell_type": "markdown",
      "metadata": {
        "id": "myce6wTFjjVs"
      },
      "source": [
        "## Анализ контигов"
      ]
    },
    {
      "cell_type": "code",
      "metadata": {
        "colab": {
          "base_uri": "https://localhost:8080/"
        },
        "id": "WipnutR1Yzce",
        "outputId": "0021b407-988e-4178-caec-7145d8adc839"
      },
      "source": [
        "analyse('hse21_hw1/data/contigs.fasta')"
      ],
      "execution_count": 3,
      "outputs": [
        {
          "output_type": "stream",
          "name": "stdout",
          "text": [
            "Общее количество: 608\n",
            "Общая длина: 3925055\n",
            "Длина самого длинного: 158314\n",
            "N50: 49057\n"
          ]
        }
      ]
    },
    {
      "cell_type": "markdown",
      "metadata": {
        "id": "4-b1BXywjs1k"
      },
      "source": [
        "## Анализ скаффолдов"
      ]
    },
    {
      "cell_type": "code",
      "metadata": {
        "colab": {
          "base_uri": "https://localhost:8080/"
        },
        "id": "_YS5U1qFjrGg",
        "outputId": "3c7b6eb2-2ed1-4fef-d49c-a0bf9c7b869b"
      },
      "source": [
        "analyse('hse21_hw1/data/scaffolds.fasta')"
      ],
      "execution_count": 4,
      "outputs": [
        {
          "output_type": "stream",
          "name": "stdout",
          "text": [
            "Общее количество: 70\n",
            "Общая длина: 3872725\n",
            "Длина самого длинного: 3831610\n",
            "N50: 3831610\n"
          ]
        }
      ]
    },
    {
      "cell_type": "markdown",
      "metadata": {
        "id": "D2uCBhwY4BG4"
      },
      "source": [
        "## Анализ гэпов"
      ]
    },
    {
      "cell_type": "code",
      "metadata": {
        "id": "BGiHYaiRmEfa"
      },
      "source": [
        "def count_gaps(name):\n",
        "  gaps_num = !grep N $name | wc -l\n",
        "  gaps_len = !grep -o N $name | wc -l\n",
        "  print('Количество гэпов:', gaps_num[0])\n",
        "  print('Общая длина гэпов:', gaps_len[0])\n"
      ],
      "execution_count": 5,
      "outputs": []
    },
    {
      "cell_type": "code",
      "metadata": {
        "colab": {
          "base_uri": "https://localhost:8080/"
        },
        "id": "5I0N8uE0zBJi",
        "outputId": "750ca4fd-3b56-4c71-be9d-8f742763cee8"
      },
      "source": [
        "#до уменьшения количества гэпов\n",
        "count_gaps('/content/hse21_hw1/data/longest.fasta')"
      ],
      "execution_count": 6,
      "outputs": [
        {
          "output_type": "stream",
          "name": "stdout",
          "text": [
            "Количество гэпов: 140\n",
            "Общая длина гэпов: 6295\n"
          ]
        }
      ]
    },
    {
      "cell_type": "code",
      "metadata": {
        "colab": {
          "base_uri": "https://localhost:8080/"
        },
        "id": "lMAu3oSc4jm4",
        "outputId": "71a6866b-4828-46bf-bc12-6a3660aa2e5f"
      },
      "source": [
        "#после уменьшения количества гэпов\n",
        "count_gaps('/content/hse21_hw1/data/longest_close_gaps.fasta')"
      ],
      "execution_count": 7,
      "outputs": [
        {
          "output_type": "stream",
          "name": "stdout",
          "text": [
            "Количество гэпов: 29\n",
            "Общая длина гэпов: 1541\n"
          ]
        }
      ]
    }
  ]
}